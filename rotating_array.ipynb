{
 "cells": [
  {
   "cell_type": "raw",
   "metadata": {},
   "source": [
    "#the first line contains space-separated integers,n,k, and q, respectively.\n",
    "#The second line contains n space-separated integers, where each integer i describes array element a[i] (where 0<= i <n ).\n",
    "#Each of the q subsequent lines contains a single integer denoting .\n",
    "\n",
    "#Input\n",
    "3 2 3\n",
    "1 2 3\n",
    "0\n",
    "1\n",
    "2\n",
    "\n",
    "#output\n",
    "2\n",
    "3\n",
    "1\n",
    "\n",
    "# Explanation\n",
    "After the first rotation, the array becomes[3,1,2] .\n",
    "After the second (and final) rotation, the array becomes[2,3,1].\n",
    "\n",
    "Let's refer to the array's final state as array b . For each query, we just have to print the value of b[m] on a new line:\n",
    "\n",
    "  m=0  , so we print on a new line.\n",
    "  m=1  , so we print on a new line.\n",
    "  m=2  , so we print on a new line.\n",
    "\n"
   ]
  },
  {
   "cell_type": "code",
   "execution_count": 1,
   "metadata": {
    "collapsed": false
   },
   "outputs": [
    {
     "name": "stdout",
     "output_type": "stream",
     "text": [
      "3 2 1\n",
      "1 2 3\n",
      "1\n",
      "3\n"
     ]
    }
   ],
   "source": [
    "#!/bin/python\n",
    "\n",
    "import sys\n",
    "\n",
    "\n",
    "n,k,q = raw_input().strip().split(' ')\n",
    "n,k,q = [int(n),int(k),int(q)]\n",
    "a = map(int,raw_input().strip().split(' '))\n",
    "for a0 in xrange(q):\n",
    "    m = int(raw_input().strip())\n",
    "    print(a[(-k%n + m)%n])\n"
   ]
  },
  {
   "cell_type": "code",
   "execution_count": null,
   "metadata": {
    "collapsed": true
   },
   "outputs": [],
   "source": []
  }
 ],
 "metadata": {
  "kernelspec": {
   "display_name": "Python 2",
   "language": "python",
   "name": "python2"
  },
  "language_info": {
   "codemirror_mode": {
    "name": "ipython",
    "version": 2
   },
   "file_extension": ".py",
   "mimetype": "text/x-python",
   "name": "python",
   "nbconvert_exporter": "python",
   "pygments_lexer": "ipython2",
   "version": "2.7.6"
  }
 },
 "nbformat": 4,
 "nbformat_minor": 0
}
