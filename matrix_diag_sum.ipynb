{
 "cells": [
  {
   "cell_type": "code",
   "execution_count": 3,
   "metadata": {
    "collapsed": true
   },
   "outputs": [],
   "source": [
    "#calculate the sum of right and left diagonal elements.\n",
    "#question.\n",
    "\n",
    "#Given a square matrix of size , calculate the absolute difference between the sums of its diagonals.\n",
    "#Input Format\n",
    "#The first line contains a single integer . \n",
    "#The next lines denote the matrix's rows, with each line containing space-separated integers describing the columns.\n",
    "#3\n",
    "#11 2 4\n",
    "#4 5 6\n",
    "#10 8 -12\n",
    "\n",
    "#Output Format\n",
    "#15\n",
    "\n",
    "#Explanation\n",
    "\n",
    "#The primary diagonal is:\n",
    "#11\n",
    "#      5\n",
    "#            -12\n",
    "\n",
    "#Sum across the primary diagonal: 11 + 5 - 12 = 4\n",
    "#The secondary diagonal is:\n",
    "#            4\n",
    "#      5\n",
    "#10\n",
    "#Sum across the secondary diagonal: 4 + 5 + 10 = 19\n",
    "#Difference: |4 - 19| = 15\n",
    "\n",
    "#Print the absolute difference between the two sums of the matrix's diagonals as a single integer."
   ]
  },
  {
   "cell_type": "code",
   "execution_count": 5,
   "metadata": {
    "collapsed": false
   },
   "outputs": [
    {
     "name": "stdout",
     "output_type": "stream",
     "text": [
      "3\n",
      "1 2 3\n",
      "4 5 6\n",
      "-7 8 9\n",
      "14\n"
     ]
    }
   ],
   "source": [
    "import sys\n",
    "\n",
    "n = int(raw_input().strip())\n",
    "a = []\n",
    "for a_i in xrange(n):\n",
    "    a_temp = map(int,raw_input().strip().split(' '))\n",
    "    a.append(a_temp)\n",
    "sum_first_diagonal = sum(a[i][i] for i in range(n))\n",
    "sum_second_diagonal = sum(a[i][n-i-1] for i in range(n))\n",
    "print abs(sum_first_diagonal - sum_second_diagonal)\n",
    "\n"
   ]
  },
  {
   "cell_type": "code",
   "execution_count": null,
   "metadata": {
    "collapsed": true
   },
   "outputs": [],
   "source": []
  }
 ],
 "metadata": {
  "kernelspec": {
   "display_name": "Python 2",
   "language": "python",
   "name": "python2"
  },
  "language_info": {
   "codemirror_mode": {
    "name": "ipython",
    "version": 2
   },
   "file_extension": ".py",
   "mimetype": "text/x-python",
   "name": "python",
   "nbconvert_exporter": "python",
   "pygments_lexer": "ipython2",
   "version": "2.7.6"
  }
 },
 "nbformat": 4,
 "nbformat_minor": 0
}
